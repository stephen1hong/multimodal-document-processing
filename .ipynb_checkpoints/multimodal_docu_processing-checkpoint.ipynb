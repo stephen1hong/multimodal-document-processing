{
 "cells": [
  {
   "cell_type": "code",
   "execution_count": 1,
   "id": "534a09f1-6364-4513-98d2-231f0ec85139",
   "metadata": {},
   "outputs": [],
   "source": [
    "import os\n",
    "import sys\n",
    "import json"
   ]
  },
  {
   "cell_type": "code",
   "execution_count": 2,
   "id": "78490621-8141-4d33-bebe-26b5e42e26f0",
   "metadata": {},
   "outputs": [
    {
     "data": {
      "text/plain": [
       "'\\nfolder_path = \"sample_documents\"  # Change this to your desired folder name\\nos.makedirs(folder_path, exist_ok=True)  # Create folder if it doesn\\'t exist\\nprint(f\"Folder \\'{folder_path}\\' created successfully!\")\\n'"
      ]
     },
     "execution_count": 2,
     "metadata": {},
     "output_type": "execute_result"
    }
   ],
   "source": [
    "\"\"\"\n",
    "folder_path = \"sample_documents\"  # Change this to your desired folder name\n",
    "os.makedirs(folder_path, exist_ok=True)  # Create folder if it doesn't exist\n",
    "print(f\"Folder '{folder_path}' created successfully!\")\n",
    "\"\"\""
   ]
  },
  {
   "cell_type": "code",
   "execution_count": 3,
   "id": "7f643891-70d0-480d-b512-d0327eef3132",
   "metadata": {},
   "outputs": [
    {
     "name": "stdout",
     "output_type": "stream",
     "text": [
      "C:\\Users\\steph\\projects\\multimodal_document_processing\n"
     ]
    }
   ],
   "source": [
    "print(os.getcwd())  #"
   ]
  },
  {
   "cell_type": "code",
   "execution_count": 4,
   "id": "754c22e2-f157-41b0-bb10-7713c7a8d645",
   "metadata": {},
   "outputs": [
    {
     "name": "stdout",
     "output_type": "stream",
     "text": [
      "C:\\Users\\steph\\anaconda3\\python.exe\n"
     ]
    }
   ],
   "source": [
    "print(sys.executable)"
   ]
  },
  {
   "cell_type": "code",
   "execution_count": 5,
   "id": "39b310be-01ff-44a0-bdfc-3fa7e7bc7acf",
   "metadata": {},
   "outputs": [],
   "source": [
    "#!{sys.executable} -m pip install google-cloud-aiplatform"
   ]
  },
  {
   "cell_type": "code",
   "execution_count": 6,
   "id": "e9c286fc-9bcc-4dc6-8478-e7215e76c06b",
   "metadata": {},
   "outputs": [
    {
     "name": "stdout",
     "output_type": "stream",
     "text": [
      "Module imported successfully!\n"
     ]
    }
   ],
   "source": [
    "from google.cloud import aiplatform\n",
    "print(\"Module imported successfully!\")"
   ]
  },
  {
   "cell_type": "code",
   "execution_count": 7,
   "id": "af11313d-6170-4dfa-9fbb-a3cea3743373",
   "metadata": {
    "scrolled": true
   },
   "outputs": [],
   "source": [
    "from google.cloud import aiplatform"
   ]
  },
  {
   "cell_type": "code",
   "execution_count": 8,
   "id": "3a11bbce-72f9-4710-9eb5-d75f1dac340d",
   "metadata": {},
   "outputs": [],
   "source": [
    "import vertexai\n",
    "from vertexai.generative_models import GenerativeModel, Part, GenerationConfig"
   ]
  },
  {
   "cell_type": "code",
   "execution_count": 9,
   "id": "0d34852b-f3ae-43bd-99ca-3ba5131de9fc",
   "metadata": {},
   "outputs": [],
   "source": [
    "vertexai.init(project=\"multimodal-document-processing\", location=\"us-central1\")"
   ]
  },
  {
   "cell_type": "code",
   "execution_count": 10,
   "id": "f3e4e173-d306-46a8-8ae4-1f00582add0c",
   "metadata": {},
   "outputs": [],
   "source": [
    "prompt = \"\"\"\n",
    "You are a document entity extraction specialist. \n",
    "Given a document, your task is to extract the text value of entities.\n",
    "Generate null for missing entities.\n",
    "\"\"\""
   ]
  },
  {
   "cell_type": "code",
   "execution_count": 11,
   "id": "b90a7929-69e5-4506-9ab1-3bec6bfd7445",
   "metadata": {},
   "outputs": [],
   "source": [
    "with open(\"sample_documents/1.pdf\", \"rb\") as pdf_file:\n",
    "    pdf = pdf_file.read()"
   ]
  },
  {
   "cell_type": "code",
   "execution_count": 12,
   "id": "dfa45e76-8467-4a35-8339-340b58a4f294",
   "metadata": {},
   "outputs": [],
   "source": [
    "document = Part.from_data(data=pdf, mime_type=\"application/pdf\")"
   ]
  },
  {
   "cell_type": "code",
   "execution_count": 13,
   "id": "2d1779fc-15fc-467b-8288-e293ab49b5db",
   "metadata": {},
   "outputs": [],
   "source": [
    "RESPONSE_SCHEMA = {\n",
    "    \"type\": \"object\",\n",
    "    \"properties\": {\n",
    "        \"items\": {\n",
    "            \"type\": \"array\",\n",
    "            \"items\": {\n",
    "                \"type\": \"object\",\n",
    "                \"properties\": {\n",
    "                    \"description\": {\"type\": \"string\"},\n",
    "                    \"quantity\": {\"type\": \"string\"},\n",
    "                    \"price\": {\"type\": \"string\"}, #add\n",
    "                    \"total\": {\"type\": \"string\"}\n",
    "                },\n",
    "                \"required\": [\"description\", \"quantity\", \"price\", \"total\"]\n",
    "            }\n",
    "        }\n",
    "    }\n",
    "}"
   ]
  },
  {
   "cell_type": "code",
   "execution_count": 14,
   "id": "9d23c182-b309-48f2-8a13-987bfe4bd80a",
   "metadata": {},
   "outputs": [],
   "source": [
    "model = GenerativeModel(\"gemini-1.5-pro-001\")"
   ]
  },
  {
   "cell_type": "code",
   "execution_count": 15,
   "id": "e0dbb60f-49b1-4d27-ac20-2c199a2ae15c",
   "metadata": {},
   "outputs": [],
   "source": [
    "generation_config = GenerationConfig(\n",
    "        max_output_tokens=8192,\n",
    "        temperature=0,\n",
    "        top_p=0.95,\n",
    "        response_mime_type=\"application/json\",\n",
    "        response_schema=RESPONSE_SCHEMA\n",
    ")"
   ]
  },
  {
   "cell_type": "code",
   "execution_count": 16,
   "id": "a8a70250-8585-44da-956a-3048fe5602c1",
   "metadata": {},
   "outputs": [],
   "source": [
    "responses = model.generate_content(\n",
    "        [document, prompt],\n",
    "        generation_config=generation_config,\n",
    ")"
   ]
  },
  {
   "cell_type": "code",
   "execution_count": 17,
   "id": "0399687d-aafc-4392-ad5c-f3d741dcea6e",
   "metadata": {},
   "outputs": [
    {
     "name": "stdout",
     "output_type": "stream",
     "text": [
      "prompt_token_count: 301\n",
      "candidates_token_count: 49\n",
      "total_token_count: 350\n",
      "prompt_tokens_details {\n",
      "  modality: DOCUMENT\n",
      "  token_count: 258\n",
      "}\n",
      "prompt_tokens_details {\n",
      "  modality: TEXT\n",
      "  token_count: 43\n",
      "}\n",
      "candidates_tokens_details {\n",
      "  modality: TEXT\n",
      "  token_count: 49\n",
      "}\n",
      "\n"
     ]
    }
   ],
   "source": [
    "print(responses.usage_metadata)"
   ]
  },
  {
   "cell_type": "code",
   "execution_count": 18,
   "id": "0a9e97c2-5fc8-4e0e-b740-1ddea529e7f2",
   "metadata": {},
   "outputs": [],
   "source": [
    "json_response = responses.candidates[0].content.parts[0].text"
   ]
  },
  {
   "cell_type": "code",
   "execution_count": 19,
   "id": "0c215356-d95f-4e54-8c5c-3f627711d5a9",
   "metadata": {},
   "outputs": [
    {
     "name": "stdout",
     "output_type": "stream",
     "text": [
      "{\n",
      "    \"items\": [\n",
      "        {\n",
      "            \"description\": \"Web Design\\nThis is a sample description...\",\n",
      "            \"quantity\": \"1.00\",\n",
      "            \"price\": \"85.00\",\n",
      "            \"total\": \"85.00\"\n",
      "        }\n",
      "    ]\n",
      "}\n"
     ]
    }
   ],
   "source": [
    "json_data = json.loads(json_response)\n",
    "formatted_json = json.dumps(json_data, indent=4)\n",
    "    \n",
    "print(formatted_json)"
   ]
  },
  {
   "cell_type": "code",
   "execution_count": 20,
   "id": "a673433e-caf0-4bf7-a3df-892e70aea470",
   "metadata": {},
   "outputs": [],
   "source": [
    "with open('result.json', 'w') as json_file:\n",
    "  json_file.write(formatted_json)"
   ]
  },
  {
   "cell_type": "code",
   "execution_count": null,
   "id": "a1d2e58f-888f-43bf-869e-7d1956639274",
   "metadata": {},
   "outputs": [],
   "source": []
  }
 ],
 "metadata": {
  "kernelspec": {
   "display_name": "Python 3 (ipykernel)",
   "language": "python",
   "name": "python3"
  },
  "language_info": {
   "codemirror_mode": {
    "name": "ipython",
    "version": 3
   },
   "file_extension": ".py",
   "mimetype": "text/x-python",
   "name": "python",
   "nbconvert_exporter": "python",
   "pygments_lexer": "ipython3",
   "version": "3.12.4"
  }
 },
 "nbformat": 4,
 "nbformat_minor": 5
}
